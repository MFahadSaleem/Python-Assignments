{
 "cells": [
  {
   "cell_type": "code",
   "execution_count": 26,
   "metadata": {},
   "outputs": [
    {
     "name": "stdout",
     "output_type": "stream",
     "text": [
      "Q1's Answer\n",
      "Twinkle, twinkle, little star,\n",
      "\tHow I wonder what you are!\n",
      "\t\tUp above the world so high,\n",
      "\t\tLike a diamond in the sky.\n",
      "Twinkle, twinkle, little star,\n",
      "How I wonder what you are\n"
     ]
    }
   ],
   "source": [
    "print(\"Q1's Answer\")\n",
    "print(\"Twinkle, twinkle, little star,\\n\\tHow I wonder what you are!\\n\\t\\tUp above the world so high,\\n\\t\\tLike a diamond in the sky.\\nTwinkle, twinkle, little star,\\nHow I wonder what you are\")"
   ]
  },
  {
   "cell_type": "code",
   "execution_count": 33,
   "metadata": {},
   "outputs": [
    {
     "name": "stdout",
     "output_type": "stream",
     "text": [
      "Q2's Answer\n",
      "System Version\n",
      "3.7.4 (default, Aug  9 2019, 18:34:13) [MSC v.1915 64 bit (AMD64)]\n",
      "System Version Information\n",
      " sys.version_info(major=3, minor=7, micro=4, releaselevel='final', serial=0)\n"
     ]
    }
   ],
   "source": [
    "import sys\n",
    "print(\"Q2's Answer\")\n",
    "print(\"System Version\\n\" + sys.version)\n",
    "print(\"System Version Information\\n\" , sys.version_info)"
   ]
  },
  {
   "cell_type": "code",
   "execution_count": 32,
   "metadata": {},
   "outputs": [
    {
     "name": "stdout",
     "output_type": "stream",
     "text": [
      "Q3's Answer\n",
      "Current Date : \n",
      "05-11-2019\n",
      "Current Time :\n",
      "22:56:08\n"
     ]
    }
   ],
   "source": [
    "import datetime\n",
    "print(\"Q3's Answer\")\n",
    "currentdt = datetime.datetime.now()\n",
    "print (\"Current Date : \")\n",
    "print (currentdt.strftime(\"%d-%m-%Y\"))\n",
    "print(\"Current Time :\")\n",
    "print(currentdt.strftime(\"%H:%M:%S\"))"
   ]
  },
  {
   "cell_type": "code",
   "execution_count": 34,
   "metadata": {},
   "outputs": [
    {
     "name": "stdout",
     "output_type": "stream",
     "text": [
      "Q4's Answer\n",
      "Program for claculating the Area of Circle:\n",
      "Enter the Radius of Circle: 5\n",
      "Area of Circle is:  78.53750000000001\n"
     ]
    }
   ],
   "source": [
    "print(\"Q4's Answer\")\n",
    "print(\"Program for claculating the Area of Circle:\")\n",
    "pi=3.1415\n",
    "r = float(input(\"Enter the Radius of Circle: \"))\n",
    "AoC=pi*(r**2)\n",
    "print(\"Area of Circle is: \", AoC)"
   ]
  },
  {
   "cell_type": "code",
   "execution_count": 31,
   "metadata": {},
   "outputs": [
    {
     "name": "stdout",
     "output_type": "stream",
     "text": [
      "Q5's Answer\n",
      "swipt function\n",
      "Enter Your First  Name:dddd\n",
      "Enter Your Last   Name:fgff\n",
      "fgff dddd\n"
     ]
    }
   ],
   "source": [
    "print(\"Q5's Answer\")\n",
    "print(\"swipt function\")\n",
    "fname=input(\"Enter Your First  Name:\")\n",
    "lname=input(\"Enter Your Last   Name:\")\n",
    "print(lname,fname)"
   ]
  },
  {
   "cell_type": "code",
   "execution_count": 28,
   "metadata": {},
   "outputs": [
    {
     "name": "stdout",
     "output_type": "stream",
     "text": [
      "Q6's Answer\n",
      "Program for Addition of two numbers:\n",
      "Enter First Number=1\n",
      "Enter Second Number=4\n",
      "The result is = 5.0\n"
     ]
    }
   ],
   "source": [
    "print(\"Q6's Answer\")\n",
    "print(\"Program for Addition of two numbers:\")\n",
    "a=float(input(\"Enter First Number=\"))\n",
    "b=float(input(\"Enter Second Number=\"))\n",
    "c=a+b\n",
    "print(\"The result is =\", c)"
   ]
  }
 ],
 "metadata": {
  "kernelspec": {
   "display_name": "Python 3",
   "language": "python",
   "name": "python3"
  },
  "language_info": {
   "codemirror_mode": {
    "name": "ipython",
    "version": 3
   },
   "file_extension": ".py",
   "mimetype": "text/x-python",
   "name": "python",
   "nbconvert_exporter": "python",
   "pygments_lexer": "ipython3",
   "version": "3.7.4"
  }
 },
 "nbformat": 4,
 "nbformat_minor": 2
}
